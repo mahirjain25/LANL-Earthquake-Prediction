{
 "cells": [
  {
   "cell_type": "markdown",
   "metadata": {
    "_uuid": "f1a689a881d833bc22b9aff4e01fcb473c29bd9d"
   },
   "source": [
    "# **Time to Earthquake Prediction Kernel**\n",
    "\n",
    "## This kernel describes a holistic procedure to solve the given problem. We will start by exploring the data, followed by feature extraction, and finally, use an appropriate model to make predictions after training and validation.\n",
    "\n",
    "### Sequence of Steps:\n",
    "1. Load the training data from the given dataset.\n",
    "2. Visualise the training data - Input Acoustic Signal and Time_To_Failure\n",
    "3. Extract Features using appropriate mathematical functions\n",
    "4. Train and Validate using an appropriate model\n",
    "5. Make Predictions\n",
    "6. Save results\n",
    "\n",
    "\n",
    "This kernel is inspired from Lavanya's kernel that can be found [here](https://www.kaggle.com/lavanyadml/lanl-earthquake-prediction)"
   ]
  },
  {
   "cell_type": "markdown",
   "metadata": {
    "_uuid": "d48542befdb09679363485f1408b6859b015a1e3"
   },
   "source": [
    "## ** Step 1: Loading the Training Data and Dataframe setup**"
   ]
  },
  {
   "cell_type": "code",
   "execution_count": 1,
   "metadata": {
    "_cell_guid": "b1076dfc-b9ad-4769-8c92-a6c4dae69d19",
    "_uuid": "8f2839f25d086af736a60e9eeb907d3b93b6e0e5"
   },
   "outputs": [
    {
     "name": "stdout",
     "output_type": "stream",
     "text": [
      "['test', 'train.csv', 'sample_submission.csv']\n"
     ]
    }
   ],
   "source": [
    "# This Python 3 environment comes with many helpful analytics libraries installed\n",
    "# It is defined by the kaggle/python docker image: https://github.com/kaggle/docker-python\n",
    "# For example, here's several helpful packages to load in \n",
    "\n",
    "import numpy as np # linear algebra\n",
    "import pandas as pd # data processing, CSV file I/O (e.g. pd.read_csv)\n",
    "\n",
    "# Input data files are available in the \"../input/\" directory.\n",
    "# For example, running this (by clicking run or pressing Shift+Enter) will list the files in the input directory\n",
    "\n",
    "import os\n",
    "print(os.listdir(\"../input\"))\n",
    "\n",
    "from tqdm import tqdm, tqdm_notebook\n",
    "from sklearn.ensemble import GradientBoostingRegressor\n",
    "from sklearn.model_selection import KFold, cross_validate, cross_val_predict\n",
    "from sklearn.metrics import mean_absolute_error\n",
    "from sklearn.preprocessing import StandardScaler\n",
    "import matplotlib.pyplot as plt\n",
    "# Any results you write to the current directory are saved as output."
   ]
  },
  {
   "cell_type": "code",
   "execution_count": 2,
   "metadata": {
    "_cell_guid": "79c7e3d0-c299-4dcb-8224-4455121ee9b0",
    "_uuid": "d629ff2d2480ee46fbb7e2d37f6b5fab8052498a"
   },
   "outputs": [],
   "source": [
    "train_data = pd.read_csv('../input/train.csv',dtype={'acoustic_data': np.int16, 'time_to_failure':np.float64})"
   ]
  },
  {
   "cell_type": "code",
   "execution_count": 3,
   "metadata": {
    "_uuid": "8e1be2307a7eb6898c1994a50b42cc4a91e7e1f4"
   },
   "outputs": [
    {
     "data": {
      "text/html": [
       "<div>\n",
       "<style scoped>\n",
       "    .dataframe tbody tr th:only-of-type {\n",
       "        vertical-align: middle;\n",
       "    }\n",
       "\n",
       "    .dataframe tbody tr th {\n",
       "        vertical-align: top;\n",
       "    }\n",
       "\n",
       "    .dataframe thead th {\n",
       "        text-align: right;\n",
       "    }\n",
       "</style>\n",
       "<table border=\"1\" class=\"dataframe\">\n",
       "  <thead>\n",
       "    <tr style=\"text-align: right;\">\n",
       "      <th></th>\n",
       "      <th>acoustic_data</th>\n",
       "      <th>time_to_failure</th>\n",
       "    </tr>\n",
       "  </thead>\n",
       "  <tbody>\n",
       "    <tr>\n",
       "      <th>0</th>\n",
       "      <td>12</td>\n",
       "      <td>1.4690999832</td>\n",
       "    </tr>\n",
       "    <tr>\n",
       "      <th>1</th>\n",
       "      <td>6</td>\n",
       "      <td>1.4690999821</td>\n",
       "    </tr>\n",
       "    <tr>\n",
       "      <th>2</th>\n",
       "      <td>8</td>\n",
       "      <td>1.4690999810</td>\n",
       "    </tr>\n",
       "    <tr>\n",
       "      <th>3</th>\n",
       "      <td>5</td>\n",
       "      <td>1.4690999799</td>\n",
       "    </tr>\n",
       "    <tr>\n",
       "      <th>4</th>\n",
       "      <td>8</td>\n",
       "      <td>1.4690999788</td>\n",
       "    </tr>\n",
       "  </tbody>\n",
       "</table>\n",
       "</div>"
      ],
      "text/plain": [
       "   acoustic_data  time_to_failure\n",
       "0             12     1.4690999832\n",
       "1              6     1.4690999821\n",
       "2              8     1.4690999810\n",
       "3              5     1.4690999799\n",
       "4              8     1.4690999788"
      ]
     },
     "execution_count": 3,
     "metadata": {},
     "output_type": "execute_result"
    }
   ],
   "source": [
    "pd.options.display.precision = 10\n",
    "train_data.head()"
   ]
  },
  {
   "cell_type": "code",
   "execution_count": 4,
   "metadata": {
    "_uuid": "c456acceecfcef358cb6b1f750eac4edd435a982"
   },
   "outputs": [
    {
     "name": "stdout",
     "output_type": "stream",
     "text": [
      "Dimensions of the training data, Rows: 629145480, Columns:2\n"
     ]
    }
   ],
   "source": [
    "print(\"Dimensions of the training data, Rows: {}, Columns:{}\".format(train_data.shape[0],train_data.shape[1]))"
   ]
  },
  {
   "cell_type": "markdown",
   "metadata": {
    "_uuid": "9d49f3c775f4b4d8a93d0197087d5ace25f3f38d"
   },
   "source": [
    "## **Step 2: Data Visualisation**\n",
    "\n",
    "### Since the dataset is massive, we plot only 1 in every 100 points that is given to us, or in other words 1% of the given data"
   ]
  },
  {
   "cell_type": "code",
   "execution_count": 5,
   "metadata": {
    "_uuid": "da6da6d82aa1bf6cc87dbca82ecb8be7ca3fefde"
   },
   "outputs": [
    {
     "data": {
      "image/png": "[encoded data removed]",
      "text/plain": [
       "<Figure size 864x576 with 2 Axes>"
      ]
     },
     "metadata": {},
     "output_type": "display_data"
    }
   ],
   "source": [
    "acoustic_values = train_data['acoustic_data'].values[::100]\n",
    "time_to_failure_values = train_data['time_to_failure'].values[::100]\n",
    "\n",
    "fig, ax1 = plt.subplots(figsize=(12, 8))\n",
    "plt.title(\"1% of the Input Data: Acoustic Values and Time to Failure\")\n",
    "plt.plot(acoustic_values, color='r')\n",
    "ax1.set_ylabel('acoustic data', color='r')\n",
    "plt.legend(['acoustic data'], loc=(0.01, 0.95))\n",
    "ax2 = ax1.twinx()\n",
    "plt.plot(time_to_failure_values, color='b')\n",
    "ax2.set_ylabel('time to failure', color='b')\n",
    "plt.legend(['time to failure'], loc=(0.01, 0.9))\n",
    "plt.grid(True)"
   ]
  },
  {
   "cell_type": "markdown",
   "metadata": {
    "_uuid": "e2622408ecc38127cf78c70bb10d08ae909a6c74"
   },
   "source": [
    "## **Important Note**\n",
    "\n",
    "### The data is recorded in segments at a frequency of 4MHz, each segment lasting for 0.0375 seconds, thus constituting 150,000 data points.\n",
    "\n",
    "### So, we will now plot the first 6,000,000 points in the dataset, or in other words, the first 40 segments."
   ]
  },
  {
   "cell_type": "code",
   "execution_count": 6,
   "metadata": {
    "_uuid": "b79e3693f6135611ba43aa09f3a87a1870802bce"
   },
   "outputs": [
    {
     "data": {
      "text/plain": [
       "[<matplotlib.lines.Line2D at 0x7fa0533954e0>]"
      ]
     },
     "execution_count": 6,
     "metadata": {},
     "output_type": "execute_result"
    },
    {
     "data": {
      "image/png": "[encoded data removed]",
      "text/plain": [
       "<Figure size 864x576 with 1 Axes>"
      ]
     },
     "metadata": {},
     "output_type": "display_data"
    }
   ],
   "source": [
    "acoustic_values = train_data['acoustic_data'].values[0:6000000]\n",
    "plt.figure(2,figsize=(12,8))\n",
    "plt.title(\"Isolated Acoustic Signal for first 40 Segments\")\n",
    "plt.xlabel(\"Index\")\n",
    "plt.ylabel(\"Acoustic Signal\")\n",
    "plt.plot(acoustic_values, color='r')"
   ]
  },
  {
   "cell_type": "code",
   "execution_count": 7,
   "metadata": {
    "_uuid": "17a06614ea320b5e093eebf494c202438c463a1a"
   },
   "outputs": [
    {
     "data": {
      "text/plain": [
       "[<matplotlib.lines.Line2D at 0x7fa053320198>]"
      ]
     },
     "execution_count": 7,
     "metadata": {},
     "output_type": "execute_result"
    },
    {
     "data": {
      "image/png": "[encoded data removed]",
      "text/plain": [
       "<Figure size 864x576 with 1 Axes>"
      ]
     },
     "metadata": {},
     "output_type": "display_data"
    }
   ],
   "source": [
    "time_to_failure_values = train_data['time_to_failure'].values[0:6000000]\n",
    "plt.figure(3,figsize=(12,8))\n",
    "plt.title(\"Time to Failure for first 40 segments\")\n",
    "plt.xlabel(\"Index\")\n",
    "plt.ylabel(\"Time to failure\")\n",
    "plt.plot(time_to_failure_values,color='b')"
   ]
  },
  {
   "cell_type": "code",
   "execution_count": 8,
   "metadata": {
    "_uuid": "81be55ff694fad6ffab4e93af98f33e346b321d3"
   },
   "outputs": [
    {
     "data": {
      "image/png": "[encoded data removed]",
      "text/plain": [
       "<Figure size 864x576 with 2 Axes>"
      ]
     },
     "metadata": {},
     "output_type": "display_data"
    }
   ],
   "source": [
    "fig, ax1 = plt.subplots(figsize=(12, 8))\n",
    "plt.title(\"Acoustic Data and Time to Failure: First 40 Segments\")\n",
    "plt.plot(acoustic_values, color='r')\n",
    "ax1.set_ylabel('acoustic data', color='r')\n",
    "plt.legend(['acoustic data'], loc=(0.01, 0.95))\n",
    "ax2 = ax1.twinx()\n",
    "plt.plot(time_to_failure_values, color='b')\n",
    "ax2.set_ylabel('time to failure', color='b')\n",
    "plt.legend(['time to failure'], loc=(0.01, 0.9))\n",
    "plt.grid(True)"
   ]
  },
  {
   "cell_type": "markdown",
   "metadata": {
    "_uuid": "63f1450439d6ffce8fec9af6f9e79c25f6993256"
   },
   "source": [
    "## **Summary**\n",
    "\n",
    "### We see that the acoustic signal shows a massive spike, followed by a quieter than usual period in the build up to an Earthquake, when Time_to_Failure hits 0"
   ]
  },
  {
   "cell_type": "markdown",
   "metadata": {
    "_uuid": "a1bdf82cb2454c1a0740fcb18cbd5f66f880820d"
   },
   "source": [
    "## **Step 3: Feature Extraction**\n",
    "\n",
    "### The entire data is first split into segments of 150,000 data points each, giving us 4194 segments to train on.\n",
    "\n",
    "### In this step, the data to be trained on is created by extracting features. To capture the inherent frequency-magnitude characteristics of the wave, we use the **Fast Fourier Transform (FFT)** on each segment and take the real and imaginary components and calculate the mean, standard deviation, maximum and minimum for each.\n",
    "\n",
    "### In addition, we take several other features such as the quartiles, Median Absolute Deviation (MAD), in addition to basic statistical features of standard deviation, mean, max and min. Some other functions such as kurtosis and skew are also used."
   ]
  },
  {
   "cell_type": "code",
   "execution_count": 9,
   "metadata": {
    "_uuid": "96eaf8435fe3faaf6ed1f4647e9ab6ed64bc1891"
   },
   "outputs": [],
   "source": [
    "segment_size = 150000\n",
    "num_segments = int(np.floor(train_data.shape[0]/segment_size))\n",
    "\n",
    "X_train = pd.DataFrame(index=range(num_segments), dtype=np.float64)\n",
    "y_train = pd.DataFrame(index=range(num_segments), dtype=np.float64, columns=['time_to_failure'])"
   ]
  },
  {
   "cell_type": "code",
   "execution_count": 10,
   "metadata": {
    "_uuid": "c0fc6cd2abef5a60607ae99bd0170fe1966c6f3a"
   },
   "outputs": [],
   "source": [
    "def create_features(seg_id, seg, X):\n",
    "    x = pd.Series(seg['acoustic_data'].values)\n",
    "    z = np.fft.fft(x)\n",
    "    \n",
    "    realFFT = np.real(z)\n",
    "    imagFFT = np.imag(z)\n",
    "    \n",
    "    X.loc[seg_id, 'mean'] = x.mean()\n",
    "    X.loc[seg_id, 'std'] = x.std()\n",
    "    X.loc[seg_id, 'max'] = x.max()\n",
    "    X.loc[seg_id, 'min'] = x.min()\n",
    "    X.loc[seg_id, 'mad'] = x.mad()\n",
    "    X.loc[seg_id, 'kurt'] = x.kurtosis()\n",
    "    X.loc[seg_id, 'skew'] = x.skew()\n",
    "    \n",
    "    X.loc[seg_id, 'Rmean'] = realFFT.mean()\n",
    "    X.loc[seg_id, 'Rstd'] = realFFT.std()\n",
    "    X.loc[seg_id, 'Rmax'] = realFFT.max()\n",
    "    X.loc[seg_id, 'Rmin'] = realFFT.min()\n",
    "    X.loc[seg_id, 'Imean'] = imagFFT.mean()\n",
    "    X.loc[seg_id, 'Istd'] = imagFFT.std()\n",
    "    X.loc[seg_id, 'Imax'] = imagFFT.max()\n",
    "    X.loc[seg_id, 'Imin'] = imagFFT.min()\n",
    "    \n",
    "    X.loc[seg_id, 'q95'] = np.quantile(x, 0.95)\n",
    "    X.loc[seg_id, 'q99'] = np.quantile(x, 0.99)\n",
    "    X.loc[seg_id, 'q05'] = np.quantile(x, 0.05)\n",
    "    X.loc[seg_id, 'q01'] = np.quantile(x, 0.01)\n",
    "    \n",
    "    X.loc[seg_id, 'abs_q95'] = np.quantile(np.abs(x), 0.95)\n",
    "    X.loc[seg_id, 'abs_q99'] = np.quantile(np.abs(x), 0.99)\n",
    "    X.loc[seg_id, 'abs_q05'] = np.quantile(np.abs(x), 0.05)\n",
    "    X.loc[seg_id, 'abs_q01'] = np.quantile(np.abs(x), 0.01)"
   ]
  },
  {
   "cell_type": "markdown",
   "metadata": {
    "_uuid": "799840fb66ad2cbe102bea3e7d00ea2037ea4520"
   },
   "source": [
    "## ** Step 4: Training and Validation ** \n",
    "\n",
    "### We start off by creating the training data, and targets.\n",
    "\n",
    "### This is followed by scaling the training data, and the same is then done for the testing data."
   ]
  },
  {
   "cell_type": "code",
   "execution_count": 11,
   "metadata": {
    "_uuid": "732b83a446a61aea2c5dda03edde0c8e5f69a479"
   },
   "outputs": [
    {
     "data": {
      "application/vnd.jupyter.widget-view+json": {
       "model_id": "2e6f90451053488aaa9a99382f415282",
       "version_major": 2,
       "version_minor": 0
      },
      "text/plain": [
       "HBox(children=(IntProgress(value=0, max=4194), HTML(value='')))"
      ]
     },
     "metadata": {},
     "output_type": "display_data"
    },
    {
     "name": "stdout",
     "output_type": "stream",
     "text": [
      "\n"
     ]
    }
   ],
   "source": [
    "for seg_id in tqdm_notebook(range(num_segments)):\n",
    "    seg = train_data.iloc[seg_id*segment_size:seg_id*segment_size+segment_size]\n",
    "    create_features(seg_id, seg, X_train)\n",
    "    y_train.loc[seg_id, 'time_to_failure'] = seg['time_to_failure'].values[-1]"
   ]
  },
  {
   "cell_type": "markdown",
   "metadata": {
    "_uuid": "c2c3b81ba2cc20bf3964ad6ba9647a2d0470b33f"
   },
   "source": [
    "### Scaling the training data"
   ]
  },
  {
   "cell_type": "code",
   "execution_count": 12,
   "metadata": {
    "_uuid": "e8ffce7fbd1037608410e0b0f11d2791062a9657"
   },
   "outputs": [
    {
     "data": {
      "text/html": [
       "<div>\n",
       "<style scoped>\n",
       "    .dataframe tbody tr th:only-of-type {\n",
       "        vertical-align: middle;\n",
       "    }\n",
       "\n",
       "    .dataframe tbody tr th {\n",
       "        vertical-align: top;\n",
       "    }\n",
       "\n",
       "    .dataframe thead th {\n",
       "        text-align: right;\n",
       "    }\n",
       "</style>\n",
       "<table border=\"1\" class=\"dataframe\">\n",
       "  <thead>\n",
       "    <tr style=\"text-align: right;\">\n",
       "      <th></th>\n",
       "      <th>mean</th>\n",
       "      <th>std</th>\n",
       "      <th>max</th>\n",
       "      <th>min</th>\n",
       "      <th>mad</th>\n",
       "      <th>kurt</th>\n",
       "      <th>skew</th>\n",
       "      <th>Rmean</th>\n",
       "      <th>Rstd</th>\n",
       "      <th>Rmax</th>\n",
       "      <th>Rmin</th>\n",
       "      <th>Imean</th>\n",
       "      <th>Istd</th>\n",
       "      <th>Imax</th>\n",
       "      <th>Imin</th>\n",
       "      <th>q95</th>\n",
       "      <th>q99</th>\n",
       "      <th>q05</th>\n",
       "      <th>q01</th>\n",
       "      <th>abs_q95</th>\n",
       "      <th>abs_q99</th>\n",
       "      <th>abs_q05</th>\n",
       "      <th>abs_q01</th>\n",
       "    </tr>\n",
       "  </thead>\n",
       "  <tbody>\n",
       "    <tr>\n",
       "      <th>0</th>\n",
       "      <td>1.4241404998</td>\n",
       "      <td>-0.1702135829</td>\n",
       "      <td>-0.2181935087</td>\n",
       "      <td>0.1932181852</td>\n",
       "      <td>-0.1355550505</td>\n",
       "      <td>-0.4913099051</td>\n",
       "      <td>-0.3137031809</td>\n",
       "      <td>1.1993162055</td>\n",
       "      <td>-0.1050065934</td>\n",
       "      <td>1.4241404998</td>\n",
       "      <td>0.1567360867</td>\n",
       "      <td>-0.4585696657</td>\n",
       "      <td>-0.1690520053</td>\n",
       "      <td>-0.0854188513</td>\n",
       "      <td>0.0854188513</td>\n",
       "      <td>-0.0983930971</td>\n",
       "      <td>-0.1633661486</td>\n",
       "      <td>0.0789750565</td>\n",
       "      <td>0.2287324620</td>\n",
       "      <td>-0.0217572374</td>\n",
       "      <td>-0.1590558892</td>\n",
       "      <td>0.2566047145</td>\n",
       "      <td>0.0</td>\n",
       "    </tr>\n",
       "    <tr>\n",
       "      <th>1</th>\n",
       "      <td>0.8057160326</td>\n",
       "      <td>0.0047340170</td>\n",
       "      <td>0.0639360080</td>\n",
       "      <td>-0.0180372712</td>\n",
       "      <td>0.0562333733</td>\n",
       "      <td>0.4316957049</td>\n",
       "      <td>0.5538912151</td>\n",
       "      <td>0.0788858106</td>\n",
       "      <td>-0.0085985973</td>\n",
       "      <td>0.8057160326</td>\n",
       "      <td>-0.2221179484</td>\n",
       "      <td>0.2867049705</td>\n",
       "      <td>0.0072117521</td>\n",
       "      <td>0.0428594029</td>\n",
       "      <td>-0.0428594029</td>\n",
       "      <td>0.3256967742</td>\n",
       "      <td>0.0475309667</td>\n",
       "      <td>0.0789750565</td>\n",
       "      <td>0.0160612252</td>\n",
       "      <td>-0.0217572374</td>\n",
       "      <td>-0.0329262552</td>\n",
       "      <td>0.2566047145</td>\n",
       "      <td>0.0</td>\n",
       "    </tr>\n",
       "    <tr>\n",
       "      <th>2</th>\n",
       "      <td>1.5111552594</td>\n",
       "      <td>0.0492521967</td>\n",
       "      <td>-0.0862887996</td>\n",
       "      <td>0.1630388343</td>\n",
       "      <td>0.2870142011</td>\n",
       "      <td>-0.4928308995</td>\n",
       "      <td>0.1915337154</td>\n",
       "      <td>0.0788858106</td>\n",
       "      <td>0.0437995115</td>\n",
       "      <td>1.5111552594</td>\n",
       "      <td>-0.1042537747</td>\n",
       "      <td>-0.5402435985</td>\n",
       "      <td>0.0548393607</td>\n",
       "      <td>0.1385527700</td>\n",
       "      <td>-0.1385527700</td>\n",
       "      <td>0.7497866455</td>\n",
       "      <td>0.3990261588</td>\n",
       "      <td>-0.3472250169</td>\n",
       "      <td>-0.2675004238</td>\n",
       "      <td>0.4400335196</td>\n",
       "      <td>0.1562681958</td>\n",
       "      <td>0.2566047145</td>\n",
       "      <td>0.0</td>\n",
       "    </tr>\n",
       "    <tr>\n",
       "      <th>3</th>\n",
       "      <td>1.4949343751</td>\n",
       "      <td>0.0439496380</td>\n",
       "      <td>0.1225603231</td>\n",
       "      <td>-0.1877961201</td>\n",
       "      <td>0.1011516545</td>\n",
       "      <td>0.6839376531</td>\n",
       "      <td>1.3212453217</td>\n",
       "      <td>0.0788858106</td>\n",
       "      <td>0.0447980435</td>\n",
       "      <td>1.4949343751</td>\n",
       "      <td>-0.0338507884</td>\n",
       "      <td>-0.4177326994</td>\n",
       "      <td>0.0422165383</td>\n",
       "      <td>0.0477208015</td>\n",
       "      <td>-0.0477208015</td>\n",
       "      <td>0.3256967742</td>\n",
       "      <td>0.1178300051</td>\n",
       "      <td>0.0789750565</td>\n",
       "      <td>-0.0548291870</td>\n",
       "      <td>0.2091381411</td>\n",
       "      <td>0.0301385618</td>\n",
       "      <td>0.2566047145</td>\n",
       "      <td>0.0</td>\n",
       "    </tr>\n",
       "    <tr>\n",
       "      <th>4</th>\n",
       "      <td>1.5202420790</td>\n",
       "      <td>0.0884950703</td>\n",
       "      <td>-0.0679687011</td>\n",
       "      <td>0.0875904570</td>\n",
       "      <td>0.2115328756</td>\n",
       "      <td>-0.2174338688</td>\n",
       "      <td>-0.1283242372</td>\n",
       "      <td>1.1993162055</td>\n",
       "      <td>0.0786523017</td>\n",
       "      <td>1.5202420790</td>\n",
       "      <td>-0.0563239391</td>\n",
       "      <td>0.1131478634</td>\n",
       "      <td>0.0868416825</td>\n",
       "      <td>0.0518598726</td>\n",
       "      <td>-0.0518598726</td>\n",
       "      <td>0.3256967742</td>\n",
       "      <td>0.3990261588</td>\n",
       "      <td>0.0789750565</td>\n",
       "      <td>-0.2675004238</td>\n",
       "      <td>0.2091381411</td>\n",
       "      <td>0.2193330128</td>\n",
       "      <td>0.2566047145</td>\n",
       "      <td>0.0</td>\n",
       "    </tr>\n",
       "  </tbody>\n",
       "</table>\n",
       "</div>"
      ],
      "text/plain": [
       "           mean           std   ...          abs_q05  abs_q01\n",
       "0  1.4241404998 -0.1702135829   ...     0.2566047145      0.0\n",
       "1  0.8057160326  0.0047340170   ...     0.2566047145      0.0\n",
       "2  1.5111552594  0.0492521967   ...     0.2566047145      0.0\n",
       "3  1.4949343751  0.0439496380   ...     0.2566047145      0.0\n",
       "4  1.5202420790  0.0884950703   ...     0.2566047145      0.0\n",
       "\n",
       "[5 rows x 23 columns]"
      ]
     },
     "execution_count": 12,
     "metadata": {},
     "output_type": "execute_result"
    }
   ],
   "source": [
    "scaler = StandardScaler()\n",
    "scaler.fit(X_train)\n",
    "X_train_scaled = pd.DataFrame(scaler.transform(X_train), columns=X_train.columns)\n",
    "X_train_scaled.head()"
   ]
  },
  {
   "cell_type": "code",
   "execution_count": 13,
   "metadata": {
    "_uuid": "8c36e16ac0601734b0e26b958eda3a8dee1c45b9"
   },
   "outputs": [
    {
     "data": {
      "text/html": [
       "<div>\n",
       "<style scoped>\n",
       "    .dataframe tbody tr th:only-of-type {\n",
       "        vertical-align: middle;\n",
       "    }\n",
       "\n",
       "    .dataframe tbody tr th {\n",
       "        vertical-align: top;\n",
       "    }\n",
       "\n",
       "    .dataframe thead th {\n",
       "        text-align: right;\n",
       "    }\n",
       "</style>\n",
       "<table border=\"1\" class=\"dataframe\">\n",
       "  <thead>\n",
       "    <tr style=\"text-align: right;\">\n",
       "      <th></th>\n",
       "      <th>time_to_failure</th>\n",
       "    </tr>\n",
       "  </thead>\n",
       "  <tbody>\n",
       "    <tr>\n",
       "      <th>0</th>\n",
       "      <td>1.4307971859</td>\n",
       "    </tr>\n",
       "    <tr>\n",
       "      <th>1</th>\n",
       "      <td>1.3914988931</td>\n",
       "    </tr>\n",
       "    <tr>\n",
       "      <th>2</th>\n",
       "      <td>1.3531960947</td>\n",
       "    </tr>\n",
       "    <tr>\n",
       "      <th>3</th>\n",
       "      <td>1.3137978019</td>\n",
       "    </tr>\n",
       "    <tr>\n",
       "      <th>4</th>\n",
       "      <td>1.2743995091</td>\n",
       "    </tr>\n",
       "  </tbody>\n",
       "</table>\n",
       "</div>"
      ],
      "text/plain": [
       "   time_to_failure\n",
       "0     1.4307971859\n",
       "1     1.3914988931\n",
       "2     1.3531960947\n",
       "3     1.3137978019\n",
       "4     1.2743995091"
      ]
     },
     "execution_count": 13,
     "metadata": {},
     "output_type": "execute_result"
    }
   ],
   "source": [
    "y_train.head()"
   ]
  },
  {
   "cell_type": "code",
   "execution_count": 14,
   "metadata": {
    "_uuid": "fec7013948611b1e5e36de4dddc0b2bed24506aa"
   },
   "outputs": [
    {
     "data": {
      "application/vnd.jupyter.widget-view+json": {
       "model_id": "78240a419413434a95d335be4bb2f6c4",
       "version_major": 2,
       "version_minor": 0
      },
      "text/plain": [
       "HBox(children=(IntProgress(value=0, max=2624), HTML(value='')))"
      ]
     },
     "metadata": {},
     "output_type": "display_data"
    },
    {
     "name": "stdout",
     "output_type": "stream",
     "text": [
      "\n"
     ]
    },
    {
     "data": {
      "text/html": [
       "<div>\n",
       "<style scoped>\n",
       "    .dataframe tbody tr th:only-of-type {\n",
       "        vertical-align: middle;\n",
       "    }\n",
       "\n",
       "    .dataframe tbody tr th {\n",
       "        vertical-align: top;\n",
       "    }\n",
       "\n",
       "    .dataframe thead th {\n",
       "        text-align: right;\n",
       "    }\n",
       "</style>\n",
       "<table border=\"1\" class=\"dataframe\">\n",
       "  <thead>\n",
       "    <tr style=\"text-align: right;\">\n",
       "      <th></th>\n",
       "      <th>mean</th>\n",
       "      <th>std</th>\n",
       "      <th>max</th>\n",
       "      <th>min</th>\n",
       "      <th>mad</th>\n",
       "      <th>kurt</th>\n",
       "      <th>skew</th>\n",
       "      <th>Rmean</th>\n",
       "      <th>Rstd</th>\n",
       "      <th>Rmax</th>\n",
       "      <th>Rmin</th>\n",
       "      <th>Imean</th>\n",
       "      <th>Istd</th>\n",
       "      <th>Imax</th>\n",
       "      <th>Imin</th>\n",
       "      <th>q95</th>\n",
       "      <th>q99</th>\n",
       "      <th>q05</th>\n",
       "      <th>q01</th>\n",
       "      <th>abs_q95</th>\n",
       "      <th>abs_q99</th>\n",
       "      <th>abs_q05</th>\n",
       "      <th>abs_q01</th>\n",
       "    </tr>\n",
       "    <tr>\n",
       "      <th>seg_id</th>\n",
       "      <th></th>\n",
       "      <th></th>\n",
       "      <th></th>\n",
       "      <th></th>\n",
       "      <th></th>\n",
       "      <th></th>\n",
       "      <th></th>\n",
       "      <th></th>\n",
       "      <th></th>\n",
       "      <th></th>\n",
       "      <th></th>\n",
       "      <th></th>\n",
       "      <th></th>\n",
       "      <th></th>\n",
       "      <th></th>\n",
       "      <th></th>\n",
       "      <th></th>\n",
       "      <th></th>\n",
       "      <th></th>\n",
       "      <th></th>\n",
       "      <th></th>\n",
       "      <th></th>\n",
       "      <th></th>\n",
       "    </tr>\n",
       "  </thead>\n",
       "  <tbody>\n",
       "    <tr>\n",
       "      <th>seg_00030f</th>\n",
       "      <td>4.4917800000</td>\n",
       "      <td>4.8936896870</td>\n",
       "      <td>115.0</td>\n",
       "      <td>-75.0</td>\n",
       "      <td>3.2485210541</td>\n",
       "      <td>28.8375680992</td>\n",
       "      <td>0.3279076353</td>\n",
       "      <td>4.0</td>\n",
       "      <td>2198.3440358597</td>\n",
       "      <td>673767.0</td>\n",
       "      <td>-14758.4425585804</td>\n",
       "      <td>-4.8506384095e-16</td>\n",
       "      <td>1336.3706446941</td>\n",
       "      <td>17561.3320205683</td>\n",
       "      <td>-17561.3320205683</td>\n",
       "      <td>11.0</td>\n",
       "      <td>18.0</td>\n",
       "      <td>-2.0</td>\n",
       "      <td>-8.0</td>\n",
       "      <td>11.0</td>\n",
       "      <td>19.0</td>\n",
       "      <td>1.0</td>\n",
       "      <td>0.0</td>\n",
       "    </tr>\n",
       "    <tr>\n",
       "      <th>seg_0012b5</th>\n",
       "      <td>4.1711533333</td>\n",
       "      <td>5.9228394432</td>\n",
       "      <td>152.0</td>\n",
       "      <td>-140.0</td>\n",
       "      <td>3.4292084979</td>\n",
       "      <td>56.2189545505</td>\n",
       "      <td>0.2957078592</td>\n",
       "      <td>5.0</td>\n",
       "      <td>2289.9223785971</td>\n",
       "      <td>625673.0</td>\n",
       "      <td>-22626.3877056905</td>\n",
       "      <td>3.6379788071e-16</td>\n",
       "      <td>1621.1037906316</td>\n",
       "      <td>24935.9328612943</td>\n",
       "      <td>-24935.9328612943</td>\n",
       "      <td>11.0</td>\n",
       "      <td>20.0</td>\n",
       "      <td>-2.0</td>\n",
       "      <td>-12.0</td>\n",
       "      <td>12.0</td>\n",
       "      <td>24.0</td>\n",
       "      <td>1.0</td>\n",
       "      <td>0.0</td>\n",
       "    </tr>\n",
       "    <tr>\n",
       "      <th>seg_00184e</th>\n",
       "      <td>4.6102600000</td>\n",
       "      <td>6.9469900775</td>\n",
       "      <td>248.0</td>\n",
       "      <td>-193.0</td>\n",
       "      <td>3.4619840107</td>\n",
       "      <td>162.1182836284</td>\n",
       "      <td>0.4286882883</td>\n",
       "      <td>8.0</td>\n",
       "      <td>2611.0556294342</td>\n",
       "      <td>691539.0</td>\n",
       "      <td>-23593.9392935220</td>\n",
       "      <td>6.7908937732e-16</td>\n",
       "      <td>1899.8819700181</td>\n",
       "      <td>25121.8567303736</td>\n",
       "      <td>-25121.8567303736</td>\n",
       "      <td>11.0</td>\n",
       "      <td>20.0</td>\n",
       "      <td>-2.0</td>\n",
       "      <td>-11.0</td>\n",
       "      <td>12.0</td>\n",
       "      <td>25.0</td>\n",
       "      <td>1.0</td>\n",
       "      <td>0.0</td>\n",
       "    </tr>\n",
       "    <tr>\n",
       "      <th>seg_003339</th>\n",
       "      <td>4.5314733333</td>\n",
       "      <td>4.1141466030</td>\n",
       "      <td>85.0</td>\n",
       "      <td>-93.0</td>\n",
       "      <td>2.6785027580</td>\n",
       "      <td>41.2418274621</td>\n",
       "      <td>0.0618893629</td>\n",
       "      <td>2.0</td>\n",
       "      <td>2085.5434543543</td>\n",
       "      <td>679721.0</td>\n",
       "      <td>-11908.5379586466</td>\n",
       "      <td>-8.4886172165e-16</td>\n",
       "      <td>1126.7455347149</td>\n",
       "      <td>14075.6750638649</td>\n",
       "      <td>-14075.6750638649</td>\n",
       "      <td>10.0</td>\n",
       "      <td>14.0</td>\n",
       "      <td>-1.0</td>\n",
       "      <td>-5.0</td>\n",
       "      <td>10.0</td>\n",
       "      <td>16.0</td>\n",
       "      <td>1.0</td>\n",
       "      <td>0.0</td>\n",
       "    </tr>\n",
       "    <tr>\n",
       "      <th>seg_0042cc</th>\n",
       "      <td>4.1283400000</td>\n",
       "      <td>5.7971636362</td>\n",
       "      <td>177.0</td>\n",
       "      <td>-147.0</td>\n",
       "      <td>3.2838555877</td>\n",
       "      <td>79.5397076131</td>\n",
       "      <td>0.0738983508</td>\n",
       "      <td>5.0</td>\n",
       "      <td>2243.9299231482</td>\n",
       "      <td>619251.0</td>\n",
       "      <td>-24048.0558696796</td>\n",
       "      <td>3.8805107276e-16</td>\n",
       "      <td>1600.7074998262</td>\n",
       "      <td>24201.7689892997</td>\n",
       "      <td>-24201.7689892997</td>\n",
       "      <td>10.0</td>\n",
       "      <td>19.0</td>\n",
       "      <td>-2.0</td>\n",
       "      <td>-10.0</td>\n",
       "      <td>11.0</td>\n",
       "      <td>22.0</td>\n",
       "      <td>1.0</td>\n",
       "      <td>0.0</td>\n",
       "    </tr>\n",
       "  </tbody>\n",
       "</table>\n",
       "</div>"
      ],
      "text/plain": [
       "                    mean           std   ...     abs_q05  abs_q01\n",
       "seg_id                                   ...                     \n",
       "seg_00030f  4.4917800000  4.8936896870   ...         1.0      0.0\n",
       "seg_0012b5  4.1711533333  5.9228394432   ...         1.0      0.0\n",
       "seg_00184e  4.6102600000  6.9469900775   ...         1.0      0.0\n",
       "seg_003339  4.5314733333  4.1141466030   ...         1.0      0.0\n",
       "seg_0042cc  4.1283400000  5.7971636362   ...         1.0      0.0\n",
       "\n",
       "[5 rows x 23 columns]"
      ]
     },
     "execution_count": 14,
     "metadata": {},
     "output_type": "execute_result"
    }
   ],
   "source": [
    "submission_files = pd.read_csv('../input/sample_submission.csv',index_col='seg_id')\n",
    "submission_files\n",
    "\n",
    "X_test = pd.DataFrame(columns=X_train.columns,index=submission_files.index,dtype=np.float64)\n",
    "\n",
    "for seg_id in tqdm_notebook(X_test.index):\n",
    "    seg = pd.read_csv('../input/test/' + seg_id + '.csv')\n",
    "    create_features(seg_id, seg, X_test)\n",
    "\n",
    "X_test.head()"
   ]
  },
  {
   "cell_type": "code",
   "execution_count": 15,
   "metadata": {
    "_uuid": "bb68dd6768604a7da36b3989a0b1e80d47eff4d7"
   },
   "outputs": [
    {
     "data": {
      "text/html": [
       "<div>\n",
       "<style scoped>\n",
       "    .dataframe tbody tr th:only-of-type {\n",
       "        vertical-align: middle;\n",
       "    }\n",
       "\n",
       "    .dataframe tbody tr th {\n",
       "        vertical-align: top;\n",
       "    }\n",
       "\n",
       "    .dataframe thead th {\n",
       "        text-align: right;\n",
       "    }\n",
       "</style>\n",
       "<table border=\"1\" class=\"dataframe\">\n",
       "  <thead>\n",
       "    <tr style=\"text-align: right;\">\n",
       "      <th></th>\n",
       "      <th>mean</th>\n",
       "      <th>std</th>\n",
       "      <th>max</th>\n",
       "      <th>min</th>\n",
       "      <th>mad</th>\n",
       "      <th>kurt</th>\n",
       "      <th>skew</th>\n",
       "      <th>Rmean</th>\n",
       "      <th>Rstd</th>\n",
       "      <th>Rmax</th>\n",
       "      <th>Rmin</th>\n",
       "      <th>Imean</th>\n",
       "      <th>Istd</th>\n",
       "      <th>Imax</th>\n",
       "      <th>Imin</th>\n",
       "      <th>q95</th>\n",
       "      <th>q99</th>\n",
       "      <th>q05</th>\n",
       "      <th>q01</th>\n",
       "      <th>abs_q95</th>\n",
       "      <th>abs_q99</th>\n",
       "      <th>abs_q05</th>\n",
       "      <th>abs_q01</th>\n",
       "    </tr>\n",
       "    <tr>\n",
       "      <th>seg_id</th>\n",
       "      <th></th>\n",
       "      <th></th>\n",
       "      <th></th>\n",
       "      <th></th>\n",
       "      <th></th>\n",
       "      <th></th>\n",
       "      <th></th>\n",
       "      <th></th>\n",
       "      <th></th>\n",
       "      <th></th>\n",
       "      <th></th>\n",
       "      <th></th>\n",
       "      <th></th>\n",
       "      <th></th>\n",
       "      <th></th>\n",
       "      <th></th>\n",
       "      <th></th>\n",
       "      <th></th>\n",
       "      <th></th>\n",
       "      <th></th>\n",
       "      <th></th>\n",
       "      <th></th>\n",
       "      <th></th>\n",
       "    </tr>\n",
       "  </thead>\n",
       "  <tbody>\n",
       "    <tr>\n",
       "      <th>seg_00030f</th>\n",
       "      <td>1.3602626454</td>\n",
       "      <td>-0.2047898189</td>\n",
       "      <td>-0.1833281333</td>\n",
       "      <td>0.2715217513</td>\n",
       "      <td>-0.1731977370</td>\n",
       "      <td>-0.5840683362</td>\n",
       "      <td>0.4760881635</td>\n",
       "      <td>-0.0155648453</td>\n",
       "      <td>-0.1330101874</td>\n",
       "      <td>1.3602626454</td>\n",
       "      <td>0.3554184520</td>\n",
       "      <td>-0.2472393474</td>\n",
       "      <td>-0.2064132311</td>\n",
       "      <td>-0.3050054141</td>\n",
       "      <td>0.3050054141</td>\n",
       "      <td>0.0004718856</td>\n",
       "      <td>-0.1651494699</td>\n",
       "      <td>0.2865031382</td>\n",
       "      <td>0.2741005359</td>\n",
       "      <td>-0.2221033417</td>\n",
       "      <td>-0.1947867517</td>\n",
       "      <td>0.90746269</td>\n",
       "      <td>0.0</td>\n",
       "    </tr>\n",
       "    <tr>\n",
       "      <th>seg_0012b5</th>\n",
       "      <td>0.0893369943</td>\n",
       "      <td>-0.0870781104</td>\n",
       "      <td>-0.0494953152</td>\n",
       "      <td>0.0483997811</td>\n",
       "      <td>-0.0668431649</td>\n",
       "      <td>-0.1814763892</td>\n",
       "      <td>0.4028328178</td>\n",
       "      <td>0.1635674095</td>\n",
       "      <td>-0.0935664903</td>\n",
       "      <td>0.0893369943</td>\n",
       "      <td>0.0854634203</td>\n",
       "      <td>0.2217316454</td>\n",
       "      <td>-0.0874791618</td>\n",
       "      <td>-0.0516133065</td>\n",
       "      <td>0.0516133065</td>\n",
       "      <td>0.0004718856</td>\n",
       "      <td>-0.0291783461</td>\n",
       "      <td>0.2865031382</td>\n",
       "      <td>0.0056345626</td>\n",
       "      <td>0.0065170759</td>\n",
       "      <td>-0.0462076482</td>\n",
       "      <td>0.90746269</td>\n",
       "      <td>0.0</td>\n",
       "    </tr>\n",
       "    <tr>\n",
       "      <th>seg_00184e</th>\n",
       "      <td>1.8299031551</td>\n",
       "      <td>0.0300618104</td>\n",
       "      <td>0.2977465911</td>\n",
       "      <td>-0.1335304409</td>\n",
       "      <td>-0.0475511457</td>\n",
       "      <td>1.3755746809</td>\n",
       "      <td>0.7053668253</td>\n",
       "      <td>0.7009641737</td>\n",
       "      <td>0.0447487739</td>\n",
       "      <td>1.8299031551</td>\n",
       "      <td>0.0522660080</td>\n",
       "      <td>0.3959208713</td>\n",
       "      <td>0.0289674963</td>\n",
       "      <td>-0.0452249417</td>\n",
       "      <td>0.0452249417</td>\n",
       "      <td>0.0004718856</td>\n",
       "      <td>-0.0291783461</td>\n",
       "      <td>0.2865031382</td>\n",
       "      <td>0.0727510559</td>\n",
       "      <td>0.0065170759</td>\n",
       "      <td>-0.0164918275</td>\n",
       "      <td>0.90746269</td>\n",
       "      <td>0.0</td>\n",
       "    </tr>\n",
       "    <tr>\n",
       "      <th>seg_003339</th>\n",
       "      <td>1.5176022580</td>\n",
       "      <td>-0.2939521081</td>\n",
       "      <td>-0.2918412291</td>\n",
       "      <td>0.2097341288</td>\n",
       "      <td>-0.5087166348</td>\n",
       "      <td>-0.4016869605</td>\n",
       "      <td>-0.1291104701</td>\n",
       "      <td>-0.3738293548</td>\n",
       "      <td>-0.1815945125</td>\n",
       "      <td>1.5176022580</td>\n",
       "      <td>0.4532007918</td>\n",
       "      <td>-0.4482269158</td>\n",
       "      <td>-0.2939744009</td>\n",
       "      <td>-0.4247729760</td>\n",
       "      <td>0.4247729760</td>\n",
       "      <td>-0.4122707243</td>\n",
       "      <td>-0.4370917176</td>\n",
       "      <td>0.7004812409</td>\n",
       "      <td>0.4754500158</td>\n",
       "      <td>-0.4507237594</td>\n",
       "      <td>-0.2839342138</td>\n",
       "      <td>0.90746269</td>\n",
       "      <td>0.0</td>\n",
       "    </tr>\n",
       "    <tr>\n",
       "      <th>seg_0042cc</th>\n",
       "      <td>-0.0803699241</td>\n",
       "      <td>-0.1014526111</td>\n",
       "      <td>0.0409322645</td>\n",
       "      <td>0.0243712612</td>\n",
       "      <td>-0.1523994506</td>\n",
       "      <td>0.1614115576</td>\n",
       "      <td>-0.1017897038</td>\n",
       "      <td>0.1635674095</td>\n",
       "      <td>-0.1133758954</td>\n",
       "      <td>-0.0803699241</td>\n",
       "      <td>0.0366849315</td>\n",
       "      <td>0.2351308167</td>\n",
       "      <td>-0.0959987666</td>\n",
       "      <td>-0.0768392591</td>\n",
       "      <td>0.0768392591</td>\n",
       "      <td>-0.4122707243</td>\n",
       "      <td>-0.0971639080</td>\n",
       "      <td>0.2865031382</td>\n",
       "      <td>0.1398675493</td>\n",
       "      <td>-0.2221033417</td>\n",
       "      <td>-0.1056392896</td>\n",
       "      <td>0.90746269</td>\n",
       "      <td>0.0</td>\n",
       "    </tr>\n",
       "  </tbody>\n",
       "</table>\n",
       "</div>"
      ],
      "text/plain": [
       "                    mean           std   ...        abs_q05  abs_q01\n",
       "seg_id                                   ...                        \n",
       "seg_00030f  1.3602626454 -0.2047898189   ...     0.90746269      0.0\n",
       "seg_0012b5  0.0893369943 -0.0870781104   ...     0.90746269      0.0\n",
       "seg_00184e  1.8299031551  0.0300618104   ...     0.90746269      0.0\n",
       "seg_003339  1.5176022580 -0.2939521081   ...     0.90746269      0.0\n",
       "seg_0042cc -0.0803699241 -0.1014526111   ...     0.90746269      0.0\n",
       "\n",
       "[5 rows x 23 columns]"
      ]
     },
     "execution_count": 15,
     "metadata": {},
     "output_type": "execute_result"
    }
   ],
   "source": [
    "scaler.fit(X_test)\n",
    "X_test_scaled = pd.DataFrame(scaler.transform(X_test), columns=X_test.columns, index = submission_files.index)\n",
    "X_test_scaled.head()"
   ]
  },
  {
   "cell_type": "code",
   "execution_count": 16,
   "metadata": {
    "_uuid": "fe8754c29f919f751a8123f9a1fd81ab66aed319"
   },
   "outputs": [
    {
     "name": "stderr",
     "output_type": "stream",
     "text": [
      "[Parallel(n_jobs=-1)]: Using backend LokyBackend with 4 concurrent workers.\n",
      "[Parallel(n_jobs=-1)]: Done   3 out of   8 | elapsed:   13.0s remaining:   21.7s\n",
      "[Parallel(n_jobs=-1)]: Done   5 out of   8 | elapsed:   21.5s remaining:   12.9s\n",
      "[Parallel(n_jobs=-1)]: Done   8 out of   8 | elapsed:   21.6s finished\n"
     ]
    }
   ],
   "source": [
    "model = GradientBoostingRegressor(learning_rate=0.1, n_estimators=1000, loss='ls')\n",
    "num_folds = 8\n",
    "cross_validate_results = cross_validate(model, X_train_scaled, y_train.values.flatten(), n_jobs=-1, return_estimator= True, return_train_score=True, cv=num_folds, verbose=8, scoring=\"neg_mean_absolute_error\" )"
   ]
  },
  {
   "cell_type": "code",
   "execution_count": 17,
   "metadata": {
    "_uuid": "5ffd8cf5ed3f62cd27c6a2cc4842a2035b950401"
   },
   "outputs": [
    {
     "data": {
      "text/plain": [
       "dict_keys(['fit_time', 'score_time', 'estimator', 'test_score', 'train_score'])"
      ]
     },
     "execution_count": 17,
     "metadata": {},
     "output_type": "execute_result"
    }
   ],
   "source": [
    "cross_validate_results.keys()"
   ]
  },
  {
   "cell_type": "code",
   "execution_count": 18,
   "metadata": {
    "_uuid": "5e9dd191a395e8d0b902115b8466dff8e87c9cbc"
   },
   "outputs": [
    {
     "name": "stdout",
     "output_type": "stream",
     "text": [
      "Fold: 0 Training MAE: 1.039695982280407\n",
      "Fold: 0 Validation MAE: 2.734040151238369\n",
      "Fold: 1 Training MAE: 1.119567330362848\n",
      "Fold: 1 Validation MAE: 1.9248193343457773\n",
      "Fold: 2 Training MAE: 1.0685629054352013\n",
      "Fold: 2 Validation MAE: 2.395099867737395\n",
      "Fold: 3 Training MAE: 0.9672446938725461\n",
      "Fold: 3 Validation MAE: 3.5278087634771107\n",
      "Fold: 4 Training MAE: 1.0955708182264625\n",
      "Fold: 4 Validation MAE: 2.008705478747503\n",
      "Fold: 5 Training MAE: 1.1361210141340656\n",
      "Fold: 5 Validation MAE: 1.4882639375558702\n",
      "Fold: 6 Training MAE: 1.051469270173247\n",
      "Fold: 6 Validation MAE: 2.605314784365524\n",
      "Fold: 7 Training MAE: 1.0714698048903757\n",
      "Fold: 7 Validation MAE: 2.434743111574792\n"
     ]
    }
   ],
   "source": [
    "for i in range(num_folds):\n",
    "    print(\"Fold: {} Training MAE: {}\".format(i,-cross_validate_results['train_score'][i]))\n",
    "    print(\"Fold: {} Validation MAE: {}\".format(i,-cross_validate_results['test_score'][i]))"
   ]
  },
  {
   "cell_type": "code",
   "execution_count": 19,
   "metadata": {
    "_uuid": "5e33beefe8ba35790050d33df02cb7ffd4f3cb55"
   },
   "outputs": [
    {
     "data": {
      "text/plain": [
       "(GradientBoostingRegressor(alpha=0.9, criterion='friedman_mse', init=None,\n",
       "              learning_rate=0.1, loss='ls', max_depth=3, max_features=None,\n",
       "              max_leaf_nodes=None, min_impurity_decrease=0.0,\n",
       "              min_impurity_split=None, min_samples_leaf=1,\n",
       "              min_samples_split=2, min_weight_fraction_leaf=0.0,\n",
       "              n_estimators=1000, n_iter_no_change=None, presort='auto',\n",
       "              random_state=None, subsample=1.0, tol=0.0001,\n",
       "              validation_fraction=0.1, verbose=0, warm_start=False),\n",
       " GradientBoostingRegressor(alpha=0.9, criterion='friedman_mse', init=None,\n",
       "              learning_rate=0.1, loss='ls', max_depth=3, max_features=None,\n",
       "              max_leaf_nodes=None, min_impurity_decrease=0.0,\n",
       "              min_impurity_split=None, min_samples_leaf=1,\n",
       "              min_samples_split=2, min_weight_fraction_leaf=0.0,\n",
       "              n_estimators=1000, n_iter_no_change=None, presort='auto',\n",
       "              random_state=None, subsample=1.0, tol=0.0001,\n",
       "              validation_fraction=0.1, verbose=0, warm_start=False),\n",
       " GradientBoostingRegressor(alpha=0.9, criterion='friedman_mse', init=None,\n",
       "              learning_rate=0.1, loss='ls', max_depth=3, max_features=None,\n",
       "              max_leaf_nodes=None, min_impurity_decrease=0.0,\n",
       "              min_impurity_split=None, min_samples_leaf=1,\n",
       "              min_samples_split=2, min_weight_fraction_leaf=0.0,\n",
       "              n_estimators=1000, n_iter_no_change=None, presort='auto',\n",
       "              random_state=None, subsample=1.0, tol=0.0001,\n",
       "              validation_fraction=0.1, verbose=0, warm_start=False),\n",
       " GradientBoostingRegressor(alpha=0.9, criterion='friedman_mse', init=None,\n",
       "              learning_rate=0.1, loss='ls', max_depth=3, max_features=None,\n",
       "              max_leaf_nodes=None, min_impurity_decrease=0.0,\n",
       "              min_impurity_split=None, min_samples_leaf=1,\n",
       "              min_samples_split=2, min_weight_fraction_leaf=0.0,\n",
       "              n_estimators=1000, n_iter_no_change=None, presort='auto',\n",
       "              random_state=None, subsample=1.0, tol=0.0001,\n",
       "              validation_fraction=0.1, verbose=0, warm_start=False),\n",
       " GradientBoostingRegressor(alpha=0.9, criterion='friedman_mse', init=None,\n",
       "              learning_rate=0.1, loss='ls', max_depth=3, max_features=None,\n",
       "              max_leaf_nodes=None, min_impurity_decrease=0.0,\n",
       "              min_impurity_split=None, min_samples_leaf=1,\n",
       "              min_samples_split=2, min_weight_fraction_leaf=0.0,\n",
       "              n_estimators=1000, n_iter_no_change=None, presort='auto',\n",
       "              random_state=None, subsample=1.0, tol=0.0001,\n",
       "              validation_fraction=0.1, verbose=0, warm_start=False),\n",
       " GradientBoostingRegressor(alpha=0.9, criterion='friedman_mse', init=None,\n",
       "              learning_rate=0.1, loss='ls', max_depth=3, max_features=None,\n",
       "              max_leaf_nodes=None, min_impurity_decrease=0.0,\n",
       "              min_impurity_split=None, min_samples_leaf=1,\n",
       "              min_samples_split=2, min_weight_fraction_leaf=0.0,\n",
       "              n_estimators=1000, n_iter_no_change=None, presort='auto',\n",
       "              random_state=None, subsample=1.0, tol=0.0001,\n",
       "              validation_fraction=0.1, verbose=0, warm_start=False),\n",
       " GradientBoostingRegressor(alpha=0.9, criterion='friedman_mse', init=None,\n",
       "              learning_rate=0.1, loss='ls', max_depth=3, max_features=None,\n",
       "              max_leaf_nodes=None, min_impurity_decrease=0.0,\n",
       "              min_impurity_split=None, min_samples_leaf=1,\n",
       "              min_samples_split=2, min_weight_fraction_leaf=0.0,\n",
       "              n_estimators=1000, n_iter_no_change=None, presort='auto',\n",
       "              random_state=None, subsample=1.0, tol=0.0001,\n",
       "              validation_fraction=0.1, verbose=0, warm_start=False),\n",
       " GradientBoostingRegressor(alpha=0.9, criterion='friedman_mse', init=None,\n",
       "              learning_rate=0.1, loss='ls', max_depth=3, max_features=None,\n",
       "              max_leaf_nodes=None, min_impurity_decrease=0.0,\n",
       "              min_impurity_split=None, min_samples_leaf=1,\n",
       "              min_samples_split=2, min_weight_fraction_leaf=0.0,\n",
       "              n_estimators=1000, n_iter_no_change=None, presort='auto',\n",
       "              random_state=None, subsample=1.0, tol=0.0001,\n",
       "              validation_fraction=0.1, verbose=0, warm_start=False))"
      ]
     },
     "execution_count": 19,
     "metadata": {},
     "output_type": "execute_result"
    }
   ],
   "source": [
    "cross_validate_results['estimator']"
   ]
  },
  {
   "cell_type": "code",
   "execution_count": 20,
   "metadata": {
    "_uuid": "9e23884dffb5605271c133f0e80446fe28242428"
   },
   "outputs": [
    {
     "data": {
      "text/plain": [
       "1.2203678315767341"
      ]
     },
     "execution_count": 20,
     "metadata": {},
     "output_type": "execute_result"
    }
   ],
   "source": [
    "new_model = cross_validate_results['estimator'][1]\n",
    "y_predictions = new_model.predict(X_train_scaled)\n",
    "mean_absolute_error(y_predictions, y_train.values.flatten())"
   ]
  },
  {
   "cell_type": "code",
   "execution_count": 21,
   "metadata": {
    "_uuid": "60fd35437803489cd310e782eb06bdb8a34c1121"
   },
   "outputs": [],
   "source": [
    "y_test_predictions = new_model.predict(X_test_scaled)\n",
    "submission_files['time_to_failure'] = y_test_predictions\n",
    "submission_files.to_csv('1.csv')"
   ]
  },
  {
   "cell_type": "code",
   "execution_count": 22,
   "metadata": {
    "_uuid": "66a0efffaf146b8bafed115455607e49033ba494"
   },
   "outputs": [],
   "source": []
  },
  {
   "cell_type": "code",
   "execution_count": 22,
   "metadata": {
    "_uuid": "0561782f59359b8cdd54531419255dad6807cab1"
   },
   "outputs": [],
   "source": []
  }
 ],
 "metadata": {
  "kernelspec": {
   "display_name": "Python 3",
   "language": "python",
   "name": "python3"
  },
  "language_info": {
   "codemirror_mode": {
    "name": "ipython",
    "version": 3
   },
   "file_extension": ".py",
   "mimetype": "text/x-python",
   "name": "python",
   "nbconvert_exporter": "python",
   "pygments_lexer": "ipython3",
   "version": "3.6.6"
  }
 },
 "nbformat": 4,
 "nbformat_minor": 1
}
