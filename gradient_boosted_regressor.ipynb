{
  "cells": [
    {
      "metadata": {
        "_uuid": "8f2839f25d086af736a60e9eeb907d3b93b6e0e5",
        "_cell_guid": "b1076dfc-b9ad-4769-8c92-a6c4dae69d19",
        "trusted": true
      },
      "cell_type": "code",
      "source": "# This Python 3 environment comes with many helpful analytics libraries installed\n# It is defined by the kaggle/python docker image: https://github.com/kaggle/docker-python\n# For example, here's several helpful packages to load in \n\nimport numpy as np # linear algebra\nimport pandas as pd # data processing, CSV file I/O (e.g. pd.read_csv)\n\n# Input data files are available in the \"../input/\" directory.\n# For example, running this (by clicking run or pressing Shift+Enter) will list the files in the input directory\n\nimport os\nprint(os.listdir(\"../input\"))\n\n# Any results you write to the current directory are saved as output.",
      "execution_count": null,
      "outputs": []
    },
    {
      "metadata": {
        "trusted": true,
        "_uuid": "ecba6e87e49cdb08797e521f111a1e4d2d7793ea"
      },
      "cell_type": "code",
      "source": "import matplotlib.pyplot as plt\nfrom tqdm import tqdm #Makes iterations look better\nfrom sklearn.preprocessing import StandardScaler\nfrom sklearn.metrics import mean_absolute_error\nfrom sklearn.ensemble import GradientBoostingRegressor",
      "execution_count": null,
      "outputs": []
    },
    {
      "metadata": {
        "_cell_guid": "79c7e3d0-c299-4dcb-8224-4455121ee9b0",
        "_uuid": "d629ff2d2480ee46fbb7e2d37f6b5fab8052498a",
        "trusted": true
      },
      "cell_type": "code",
      "source": "train_data = pd.read_csv('../input/train.csv',dtype={'acoustic_data': np.int16, 'time_to_failure': np.float64})\n",
      "execution_count": null,
      "outputs": []
    },
    {
      "metadata": {
        "trusted": true,
        "_uuid": "ac93d47d8ec4fa5b8de1486cbbb2b00f3dd07775"
      },
      "cell_type": "code",
      "source": "# Display the head of the dataframe\npd.options.display.precision = 10\n\ntrain_data.head()",
      "execution_count": null,
      "outputs": []
    },
    {
      "metadata": {
        "trusted": true,
        "_uuid": "d9522cbd2edd53fbeffe970bf7399ca4e8430940"
      },
      "cell_type": "code",
      "source": "# Dimensions of the given training data\nprint(\"Rows: {}, Columns: {}\".format(train_data.shape[0],train_data.shape[1]))",
      "execution_count": null,
      "outputs": []
    },
    {
      "metadata": {
        "trusted": true,
        "_uuid": "ea233f5209a8685b7ab64af675cad16d9828eeea"
      },
      "cell_type": "code",
      "source": "# Create segments of 150000 data points as mentioned by the competition organisers.\nsegment_size = 150000\nnum_segments = int(np.floor(train_data.shape[0]/segment_size))\n\nX_train = pd.DataFrame(index=range(num_segments),columns=['ave','std','min','max'],dtype=np.float64)\ny_train = pd.DataFrame(index=range(num_segments),columns=['time_to_failure'],dtype=np.float64)\n\nfor i in tqdm(range(num_segments)):\n    segment_i = train_data.iloc[i*segment_size:i*segment_size+segment_size]\n    x = segment_i['acoustic_data'].values\n    y = segment_i['time_to_failure'].values[-1]\n    X_train.loc[i,'ave'] = x.mean()\n    X_train.loc[i,'std'] = x.std()\n    X_train.loc[i,'max'] = x.max()\n    X_train.loc[i,'min'] = x.min()\n    \n    y_train.loc[i,'time_to_failure'] = y\n    ",
      "execution_count": null,
      "outputs": []
    },
    {
      "metadata": {
        "trusted": true,
        "_uuid": "2ce594eb2dda6df71d78357e6b68bf70275ceb81"
      },
      "cell_type": "code",
      "source": "X_train.head()",
      "execution_count": null,
      "outputs": []
    },
    {
      "metadata": {
        "trusted": true,
        "_uuid": "589f4a044f630ad33a49f0708578ac2e9c1ec691"
      },
      "cell_type": "code",
      "source": "y_train.head()",
      "execution_count": null,
      "outputs": []
    },
    {
      "metadata": {
        "trusted": true,
        "_uuid": "bb96c350fac3c6f7fe418587f60c199bcf10e03e"
      },
      "cell_type": "code",
      "source": "print(\"X_train Shape: {}, y_train Shape: {}\".format(X_train.shape,y_train.shape))",
      "execution_count": null,
      "outputs": []
    },
    {
      "metadata": {
        "trusted": true,
        "_uuid": "4edab6192db2d68ac894b76ef33278cecc8d8e24"
      },
      "cell_type": "code",
      "source": "scaler = StandardScaler()\nscaler.fit(X_train)\nX_train_scaled = scaler.transform(X_train)\nX_train_scaled",
      "execution_count": null,
      "outputs": []
    },
    {
      "metadata": {
        "trusted": true,
        "_uuid": "d0450a5eeec5f9d027c2272a944f6283e002945b"
      },
      "cell_type": "code",
      "source": "# Create testing data / handle the testing part\n\nsubmission_files = pd.read_csv('../input/sample_submission.csv',index_col='seg_id')\nsubmission_files\n\nX_test = pd.DataFrame(columns=X_train.columns,index=submission_files.index,dtype=np.float64)\n\nfor seg_id in tqdm(X_test.index):\n    segment = pd.read_csv('../input/test/'+seg_id+'.csv')\n    x = segment['acoustic_data'].values\n    X_test.loc[seg_id,'ave'] = x.mean()\n    X_test.loc[seg_id,'std'] = x.std()\n    X_test.loc[seg_id,'max'] = x.max()\n    X_test.loc[seg_id,'min'] = x.min()\nX_test",
      "execution_count": 40,
      "outputs": [
        {
          "output_type": "stream",
          "text": "100%|██████████| 2624/2624 [00:38<00:00, 71.77it/s]\n",
          "name": "stderr"
        },
        {
          "output_type": "execute_result",
          "execution_count": 40,
          "data": {
            "text/plain": "                     ave            std     min     max\nseg_id                                                 \nseg_00030f  4.4917800000   4.8936733747   -75.0   115.0\nseg_0012b5  4.1711533333   5.9228197004  -140.0   152.0\nseg_00184e  4.6102600000   6.9469669208  -193.0   248.0\nseg_003339  4.5314733333   4.1141328891   -93.0    85.0\nseg_0042cc  4.1283400000   5.7971443123  -147.0   177.0\nseg_004314  4.1486066667  24.7826862156  -675.0   671.0\nseg_004cd2  4.1139866667   4.7071343412  -107.0   125.0\nseg_004ee5  4.3283800000   5.9644234068  -120.0   120.0\nseg_004f1f  4.0007333333   5.8744497157  -114.0   118.0\nseg_00648a  4.4588000000   8.9264466181  -258.0   281.0\nseg_006e4a  4.3933266667   5.5684606610   -73.0    91.0\nseg_007a37  4.0076600000   6.1738244218  -104.0   110.0\nseg_00a37e  3.8612133333   6.9270035557  -138.0   162.0\nseg_00be11  4.1565266667   7.0644744605  -139.0   147.0\nseg_00c35b  4.5294800000   4.5735512383   -97.0   146.0\nseg_00cc91  3.8979666667   7.9032227097  -185.0   221.0\nseg_00e5f7  4.0284466667   5.1406067204   -80.0    88.0\nseg_00f3b9  3.7068733333   8.7206630152  -187.0   167.0\nseg_010eab  4.2332600000   4.7017028588   -71.0    88.0\nseg_0125d9  4.2864733333   5.6642380802   -96.0   130.0\nseg_0144cb  4.1433600000   5.5239896129  -117.0   146.0\nseg_0165c6  4.1044200000   5.4662427495  -146.0   236.0\nseg_016913  3.8748600000   8.3825326312  -164.0   198.0\nseg_016cdb  3.8884066667   6.5505506329  -128.0   127.0\nseg_017314  4.1757133333   3.9907340375   -66.0    88.0\nseg_01a8dc  4.0152533333   7.4441659933  -270.0   319.0\nseg_01c775  3.8627866667   4.1952638973   -62.0    63.0\nseg_01ecb0  3.6072733333   7.1597625029  -102.0   128.0\nseg_02042f  4.3873200000   7.5637316551  -145.0   165.0\nseg_025e78  3.8783066667   6.4931454165  -173.0   187.0\n...                  ...            ...     ...     ...\nseg_fcb7d0  3.9924000000   3.4520403010   -62.0    92.0\nseg_fcca66  3.9876333333   7.0450039318  -189.0   266.0\nseg_fcd32e  4.3227200000   6.1408271811  -185.0   199.0\nseg_fd19b8  4.3340533333   4.4827426542   -92.0   122.0\nseg_fd374e  3.5860266667   6.7178140849  -225.0   231.0\nseg_fd6340  3.7226133333   4.9187508547   -67.0    67.0\nseg_fd8add  4.1726600000   4.4451136308   -68.0    73.0\nseg_fd9ac1  3.8031933333   6.9227051892  -151.0   154.0\nseg_fdba93  4.2121600000   8.2006147006  -251.0   246.0\nseg_fdc1d4  3.7908733333   9.2220138457  -475.0   308.0\nseg_fdd50e  3.7145733333  35.9128960814 -1812.0  1315.0\nseg_fde767  4.4730333333   4.6041639993   -63.0    72.0\nseg_fde86d  4.0485266667   5.6424473262  -113.0   115.0\nseg_fdff11  4.0892000000  17.8016651850  -745.0   584.0\nseg_fe2aac  4.0303600000   7.1814407749  -117.0   146.0\nseg_fe5945  4.1538933333   6.7786023762  -150.0   144.0\nseg_fe70c0  4.0953933333   5.0934939003   -85.0   137.0\nseg_fe73b1  3.9511866667   5.6251699760  -137.0   159.0\nseg_fe86f5  4.2751933333   5.0071251195   -75.0    77.0\nseg_fea3e2  4.2911400000   3.3840120420   -46.0    43.0\nseg_feb312  4.2425133333   4.2644179693   -62.0    68.0\nseg_fedbd1  4.3313466667   3.8193467225   -43.0    57.0\nseg_ff0f1b  3.9885933333   8.1302396370  -142.0   176.0\nseg_ff1a62  4.4098933333   4.0688787303   -67.0   110.0\nseg_ff2f2d  3.6553666667   5.2559434166   -87.0    82.0\nseg_ff4236  4.0957733333   5.0824260088   -50.0    71.0\nseg_ff7478  4.1384933333   6.0315763222  -208.0   164.0\nseg_ff79d9  3.7485866667   9.4675004446  -303.0   310.0\nseg_ffbd6a  4.3416866667  13.1993097126  -319.0   362.0\nseg_ffe7cc  4.1997200000   3.5731767269   -57.0    73.0\n\n[2624 rows x 4 columns]",
            "text/html": "<div>\n<style scoped>\n    .dataframe tbody tr th:only-of-type {\n        vertical-align: middle;\n    }\n\n    .dataframe tbody tr th {\n        vertical-align: top;\n    }\n\n    .dataframe thead th {\n        text-align: right;\n    }\n</style>\n<table border=\"1\" class=\"dataframe\">\n  <thead>\n    <tr style=\"text-align: right;\">\n      <th></th>\n      <th>ave</th>\n      <th>std</th>\n      <th>min</th>\n      <th>max</th>\n    </tr>\n    <tr>\n      <th>seg_id</th>\n      <th></th>\n      <th></th>\n      <th></th>\n      <th></th>\n    </tr>\n  </thead>\n  <tbody>\n    <tr>\n      <th>seg_00030f</th>\n      <td>4.4917800000</td>\n      <td>4.8936733747</td>\n      <td>-75.0</td>\n      <td>115.0</td>\n    </tr>\n    <tr>\n      <th>seg_0012b5</th>\n      <td>4.1711533333</td>\n      <td>5.9228197004</td>\n      <td>-140.0</td>\n      <td>152.0</td>\n    </tr>\n    <tr>\n      <th>seg_00184e</th>\n      <td>4.6102600000</td>\n      <td>6.9469669208</td>\n      <td>-193.0</td>\n      <td>248.0</td>\n    </tr>\n    <tr>\n      <th>seg_003339</th>\n      <td>4.5314733333</td>\n      <td>4.1141328891</td>\n      <td>-93.0</td>\n      <td>85.0</td>\n    </tr>\n    <tr>\n      <th>seg_0042cc</th>\n      <td>4.1283400000</td>\n      <td>5.7971443123</td>\n      <td>-147.0</td>\n      <td>177.0</td>\n    </tr>\n    <tr>\n      <th>seg_004314</th>\n      <td>4.1486066667</td>\n      <td>24.7826862156</td>\n      <td>-675.0</td>\n      <td>671.0</td>\n    </tr>\n    <tr>\n      <th>seg_004cd2</th>\n      <td>4.1139866667</td>\n      <td>4.7071343412</td>\n      <td>-107.0</td>\n      <td>125.0</td>\n    </tr>\n    <tr>\n      <th>seg_004ee5</th>\n      <td>4.3283800000</td>\n      <td>5.9644234068</td>\n      <td>-120.0</td>\n      <td>120.0</td>\n    </tr>\n    <tr>\n      <th>seg_004f1f</th>\n      <td>4.0007333333</td>\n      <td>5.8744497157</td>\n      <td>-114.0</td>\n      <td>118.0</td>\n    </tr>\n    <tr>\n      <th>seg_00648a</th>\n      <td>4.4588000000</td>\n      <td>8.9264466181</td>\n      <td>-258.0</td>\n      <td>281.0</td>\n    </tr>\n    <tr>\n      <th>seg_006e4a</th>\n      <td>4.3933266667</td>\n      <td>5.5684606610</td>\n      <td>-73.0</td>\n      <td>91.0</td>\n    </tr>\n    <tr>\n      <th>seg_007a37</th>\n      <td>4.0076600000</td>\n      <td>6.1738244218</td>\n      <td>-104.0</td>\n      <td>110.0</td>\n    </tr>\n    <tr>\n      <th>seg_00a37e</th>\n      <td>3.8612133333</td>\n      <td>6.9270035557</td>\n      <td>-138.0</td>\n      <td>162.0</td>\n    </tr>\n    <tr>\n      <th>seg_00be11</th>\n      <td>4.1565266667</td>\n      <td>7.0644744605</td>\n      <td>-139.0</td>\n      <td>147.0</td>\n    </tr>\n    <tr>\n      <th>seg_00c35b</th>\n      <td>4.5294800000</td>\n      <td>4.5735512383</td>\n      <td>-97.0</td>\n      <td>146.0</td>\n    </tr>\n    <tr>\n      <th>seg_00cc91</th>\n      <td>3.8979666667</td>\n      <td>7.9032227097</td>\n      <td>-185.0</td>\n      <td>221.0</td>\n    </tr>\n    <tr>\n      <th>seg_00e5f7</th>\n      <td>4.0284466667</td>\n      <td>5.1406067204</td>\n      <td>-80.0</td>\n      <td>88.0</td>\n    </tr>\n    <tr>\n      <th>seg_00f3b9</th>\n      <td>3.7068733333</td>\n      <td>8.7206630152</td>\n      <td>-187.0</td>\n      <td>167.0</td>\n    </tr>\n    <tr>\n      <th>seg_010eab</th>\n      <td>4.2332600000</td>\n      <td>4.7017028588</td>\n      <td>-71.0</td>\n      <td>88.0</td>\n    </tr>\n    <tr>\n      <th>seg_0125d9</th>\n      <td>4.2864733333</td>\n      <td>5.6642380802</td>\n      <td>-96.0</td>\n      <td>130.0</td>\n    </tr>\n    <tr>\n      <th>seg_0144cb</th>\n      <td>4.1433600000</td>\n      <td>5.5239896129</td>\n      <td>-117.0</td>\n      <td>146.0</td>\n    </tr>\n    <tr>\n      <th>seg_0165c6</th>\n      <td>4.1044200000</td>\n      <td>5.4662427495</td>\n      <td>-146.0</td>\n      <td>236.0</td>\n    </tr>\n    <tr>\n      <th>seg_016913</th>\n      <td>3.8748600000</td>\n      <td>8.3825326312</td>\n      <td>-164.0</td>\n      <td>198.0</td>\n    </tr>\n    <tr>\n      <th>seg_016cdb</th>\n      <td>3.8884066667</td>\n      <td>6.5505506329</td>\n      <td>-128.0</td>\n      <td>127.0</td>\n    </tr>\n    <tr>\n      <th>seg_017314</th>\n      <td>4.1757133333</td>\n      <td>3.9907340375</td>\n      <td>-66.0</td>\n      <td>88.0</td>\n    </tr>\n    <tr>\n      <th>seg_01a8dc</th>\n      <td>4.0152533333</td>\n      <td>7.4441659933</td>\n      <td>-270.0</td>\n      <td>319.0</td>\n    </tr>\n    <tr>\n      <th>seg_01c775</th>\n      <td>3.8627866667</td>\n      <td>4.1952638973</td>\n      <td>-62.0</td>\n      <td>63.0</td>\n    </tr>\n    <tr>\n      <th>seg_01ecb0</th>\n      <td>3.6072733333</td>\n      <td>7.1597625029</td>\n      <td>-102.0</td>\n      <td>128.0</td>\n    </tr>\n    <tr>\n      <th>seg_02042f</th>\n      <td>4.3873200000</td>\n      <td>7.5637316551</td>\n      <td>-145.0</td>\n      <td>165.0</td>\n    </tr>\n    <tr>\n      <th>seg_025e78</th>\n      <td>3.8783066667</td>\n      <td>6.4931454165</td>\n      <td>-173.0</td>\n      <td>187.0</td>\n    </tr>\n    <tr>\n      <th>...</th>\n      <td>...</td>\n      <td>...</td>\n      <td>...</td>\n      <td>...</td>\n    </tr>\n    <tr>\n      <th>seg_fcb7d0</th>\n      <td>3.9924000000</td>\n      <td>3.4520403010</td>\n      <td>-62.0</td>\n      <td>92.0</td>\n    </tr>\n    <tr>\n      <th>seg_fcca66</th>\n      <td>3.9876333333</td>\n      <td>7.0450039318</td>\n      <td>-189.0</td>\n      <td>266.0</td>\n    </tr>\n    <tr>\n      <th>seg_fcd32e</th>\n      <td>4.3227200000</td>\n      <td>6.1408271811</td>\n      <td>-185.0</td>\n      <td>199.0</td>\n    </tr>\n    <tr>\n      <th>seg_fd19b8</th>\n      <td>4.3340533333</td>\n      <td>4.4827426542</td>\n      <td>-92.0</td>\n      <td>122.0</td>\n    </tr>\n    <tr>\n      <th>seg_fd374e</th>\n      <td>3.5860266667</td>\n      <td>6.7178140849</td>\n      <td>-225.0</td>\n      <td>231.0</td>\n    </tr>\n    <tr>\n      <th>seg_fd6340</th>\n      <td>3.7226133333</td>\n      <td>4.9187508547</td>\n      <td>-67.0</td>\n      <td>67.0</td>\n    </tr>\n    <tr>\n      <th>seg_fd8add</th>\n      <td>4.1726600000</td>\n      <td>4.4451136308</td>\n      <td>-68.0</td>\n      <td>73.0</td>\n    </tr>\n    <tr>\n      <th>seg_fd9ac1</th>\n      <td>3.8031933333</td>\n      <td>6.9227051892</td>\n      <td>-151.0</td>\n      <td>154.0</td>\n    </tr>\n    <tr>\n      <th>seg_fdba93</th>\n      <td>4.2121600000</td>\n      <td>8.2006147006</td>\n      <td>-251.0</td>\n      <td>246.0</td>\n    </tr>\n    <tr>\n      <th>seg_fdc1d4</th>\n      <td>3.7908733333</td>\n      <td>9.2220138457</td>\n      <td>-475.0</td>\n      <td>308.0</td>\n    </tr>\n    <tr>\n      <th>seg_fdd50e</th>\n      <td>3.7145733333</td>\n      <td>35.9128960814</td>\n      <td>-1812.0</td>\n      <td>1315.0</td>\n    </tr>\n    <tr>\n      <th>seg_fde767</th>\n      <td>4.4730333333</td>\n      <td>4.6041639993</td>\n      <td>-63.0</td>\n      <td>72.0</td>\n    </tr>\n    <tr>\n      <th>seg_fde86d</th>\n      <td>4.0485266667</td>\n      <td>5.6424473262</td>\n      <td>-113.0</td>\n      <td>115.0</td>\n    </tr>\n    <tr>\n      <th>seg_fdff11</th>\n      <td>4.0892000000</td>\n      <td>17.8016651850</td>\n      <td>-745.0</td>\n      <td>584.0</td>\n    </tr>\n    <tr>\n      <th>seg_fe2aac</th>\n      <td>4.0303600000</td>\n      <td>7.1814407749</td>\n      <td>-117.0</td>\n      <td>146.0</td>\n    </tr>\n    <tr>\n      <th>seg_fe5945</th>\n      <td>4.1538933333</td>\n      <td>6.7786023762</td>\n      <td>-150.0</td>\n      <td>144.0</td>\n    </tr>\n    <tr>\n      <th>seg_fe70c0</th>\n      <td>4.0953933333</td>\n      <td>5.0934939003</td>\n      <td>-85.0</td>\n      <td>137.0</td>\n    </tr>\n    <tr>\n      <th>seg_fe73b1</th>\n      <td>3.9511866667</td>\n      <td>5.6251699760</td>\n      <td>-137.0</td>\n      <td>159.0</td>\n    </tr>\n    <tr>\n      <th>seg_fe86f5</th>\n      <td>4.2751933333</td>\n      <td>5.0071251195</td>\n      <td>-75.0</td>\n      <td>77.0</td>\n    </tr>\n    <tr>\n      <th>seg_fea3e2</th>\n      <td>4.2911400000</td>\n      <td>3.3840120420</td>\n      <td>-46.0</td>\n      <td>43.0</td>\n    </tr>\n    <tr>\n      <th>seg_feb312</th>\n      <td>4.2425133333</td>\n      <td>4.2644179693</td>\n      <td>-62.0</td>\n      <td>68.0</td>\n    </tr>\n    <tr>\n      <th>seg_fedbd1</th>\n      <td>4.3313466667</td>\n      <td>3.8193467225</td>\n      <td>-43.0</td>\n      <td>57.0</td>\n    </tr>\n    <tr>\n      <th>seg_ff0f1b</th>\n      <td>3.9885933333</td>\n      <td>8.1302396370</td>\n      <td>-142.0</td>\n      <td>176.0</td>\n    </tr>\n    <tr>\n      <th>seg_ff1a62</th>\n      <td>4.4098933333</td>\n      <td>4.0688787303</td>\n      <td>-67.0</td>\n      <td>110.0</td>\n    </tr>\n    <tr>\n      <th>seg_ff2f2d</th>\n      <td>3.6553666667</td>\n      <td>5.2559434166</td>\n      <td>-87.0</td>\n      <td>82.0</td>\n    </tr>\n    <tr>\n      <th>seg_ff4236</th>\n      <td>4.0957733333</td>\n      <td>5.0824260088</td>\n      <td>-50.0</td>\n      <td>71.0</td>\n    </tr>\n    <tr>\n      <th>seg_ff7478</th>\n      <td>4.1384933333</td>\n      <td>6.0315763222</td>\n      <td>-208.0</td>\n      <td>164.0</td>\n    </tr>\n    <tr>\n      <th>seg_ff79d9</th>\n      <td>3.7485866667</td>\n      <td>9.4675004446</td>\n      <td>-303.0</td>\n      <td>310.0</td>\n    </tr>\n    <tr>\n      <th>seg_ffbd6a</th>\n      <td>4.3416866667</td>\n      <td>13.1993097126</td>\n      <td>-319.0</td>\n      <td>362.0</td>\n    </tr>\n    <tr>\n      <th>seg_ffe7cc</th>\n      <td>4.1997200000</td>\n      <td>3.5731767269</td>\n      <td>-57.0</td>\n      <td>73.0</td>\n    </tr>\n  </tbody>\n</table>\n<p>2624 rows × 4 columns</p>\n</div>"
          },
          "metadata": {}
        }
      ]
    },
    {
      "metadata": {
        "trusted": true,
        "_uuid": "6d7c879cef1a146539712bb633885a3562c5754f"
      },
      "cell_type": "code",
      "source": "X_test_scaled = scaler.transform(X_test)\nX_test_scaled",
      "execution_count": 42,
      "outputs": [
        {
          "output_type": "execute_result",
          "execution_count": 42,
          "data": {
            "text/plain": "array([[-0.1081212 , -0.19460464,  0.27998382, -0.17788929],\n       [-1.36033181, -0.07358216,  0.03477659, -0.04232056],\n       [ 0.35460361,  0.04685245, -0.16516161,  0.30942533],\n       ...,\n       [-3.01067009,  0.34325463, -0.58012768,  0.53659455],\n       [-0.69431219,  0.78209681, -0.64048638,  0.72712357],\n       [-1.24876441, -0.34988847,  0.34788736, -0.33177812]])"
          },
          "metadata": {}
        }
      ]
    },
    {
      "metadata": {
        "trusted": true,
        "_uuid": "dc18ce676aa49cf109a33654b755cb87e19b69ea"
      },
      "cell_type": "code",
      "source": "model = GradientBoostingRegressor(learning_rate=0.1,n_estimators=200,loss='ls').fit(X_train_scaled,y_train.values.flatten())\ny_predictions = model.predict(X_train_scaled)\ny_predictions",
      "execution_count": 43,
      "outputs": [
        {
          "output_type": "execute_result",
          "execution_count": 43,
          "data": {
            "text/plain": "array([ 5.69300073,  4.19321843,  3.63405259, ..., 10.83218703,\n        8.40500947,  9.11570207])"
          },
          "metadata": {}
        }
      ]
    },
    {
      "metadata": {
        "trusted": true,
        "_uuid": "a51453ec509807302f2c0d07a5e4f4b9a896c03a"
      },
      "cell_type": "code",
      "source": "# Mean absolute error on training data itself\n\nmean_absolute_error(y_train.values.flatten(),y_predictions)",
      "execution_count": 44,
      "outputs": [
        {
          "output_type": "execute_result",
          "execution_count": 44,
          "data": {
            "text/plain": "2.009756441255235"
          },
          "metadata": {}
        }
      ]
    },
    {
      "metadata": {
        "trusted": true,
        "_uuid": "dd2943f4e06f93083b56b1ce70d99e029f329c56"
      },
      "cell_type": "code",
      "source": "y_test_predictions = model.predict(X_test_scaled)\nsubmission_files['time_to_failure'] = y_test_predictions\nsubmission_files.to_csv('submission1.csv')",
      "execution_count": 47,
      "outputs": []
    },
    {
      "metadata": {
        "trusted": true,
        "_uuid": "9a46593efdafe4c535eab5f570158c3accffe0bc"
      },
      "cell_type": "code",
      "source": "",
      "execution_count": null,
      "outputs": []
    }
  ],
  "metadata": {
    "kernelspec": {
      "display_name": "Python 3",
      "language": "python",
      "name": "python3"
    },
    "language_info": {
      "name": "python",
      "version": "3.6.6",
      "mimetype": "text/x-python",
      "codemirror_mode": {
        "name": "ipython",
        "version": 3
      },
      "pygments_lexer": "ipython3",
      "nbconvert_exporter": "python",
      "file_extension": ".py"
    }
  },
  "nbformat": 4,
  "nbformat_minor": 1
}